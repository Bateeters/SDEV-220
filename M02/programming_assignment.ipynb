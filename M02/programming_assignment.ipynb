{
 "cells": [
  {
   "cell_type": "code",
   "execution_count": 1,
   "id": "7bb71843",
   "metadata": {},
   "outputs": [],
   "source": [
    "secret = 3"
   ]
  },
  {
   "cell_type": "code",
   "execution_count": 2,
   "id": "20acc104",
   "metadata": {},
   "outputs": [],
   "source": [
    "guess = 7"
   ]
  },
  {
   "cell_type": "code",
   "execution_count": 3,
   "id": "46399fb2",
   "metadata": {},
   "outputs": [
    {
     "name": "stdout",
     "output_type": "stream",
     "text": [
      "too high\n"
     ]
    }
   ],
   "source": [
    "if guess > secret:\n",
    "    print(\"too high\")\n",
    "elif guess < secret:\n",
    "    print(\"too low\")\n",
    "else:\n",
    "    print(\"just right\")"
   ]
  },
  {
   "cell_type": "markdown",
   "id": "401d3888",
   "metadata": {},
   "source": [
    "\n",
    "\n",
    "4.2------------------------------------------"
   ]
  },
  {
   "cell_type": "code",
   "execution_count": 4,
   "id": "8f8dd5d5",
   "metadata": {},
   "outputs": [],
   "source": [
    "small = True\n",
    "green = False"
   ]
  },
  {
   "cell_type": "code",
   "execution_count": 5,
   "id": "ce8202cc",
   "metadata": {},
   "outputs": [
    {
     "name": "stdout",
     "output_type": "stream",
     "text": [
      "It's a cherry.\n"
     ]
    }
   ],
   "source": [
    "if small:\n",
    "    if green:\n",
    "        print(\"It's a pea.\")\n",
    "    else:\n",
    "        print(\"It's a cherry.\")\n",
    "else:\n",
    "    if green:\n",
    "        print(\"It's a watermelon.\")\n",
    "    else:\n",
    "        print(\"It's a pumpkin.\")"
   ]
  },
  {
   "cell_type": "markdown",
   "id": "538726a3",
   "metadata": {},
   "source": [
    "\n",
    "\n",
    "\n",
    "6.1 -------------------------------------------"
   ]
  },
  {
   "cell_type": "code",
   "execution_count": 6,
   "id": "5fcdfd80",
   "metadata": {},
   "outputs": [],
   "source": [
    "list = [3,2,1,0]"
   ]
  },
  {
   "cell_type": "code",
   "execution_count": 7,
   "id": "d74ae05d",
   "metadata": {},
   "outputs": [
    {
     "name": "stdout",
     "output_type": "stream",
     "text": [
      "3\n",
      "2\n",
      "1\n",
      "0\n"
     ]
    }
   ],
   "source": [
    "for number in list:\n",
    "    print(number)"
   ]
  },
  {
   "cell_type": "markdown",
   "id": "f6f1ec8b",
   "metadata": {},
   "source": [
    "\n",
    "\n",
    "\n",
    "\n",
    "6.2 ----------------------------------------------"
   ]
  },
  {
   "cell_type": "code",
   "execution_count": 18,
   "id": "06e0f1d8",
   "metadata": {},
   "outputs": [],
   "source": [
    "guess_me = 7"
   ]
  },
  {
   "cell_type": "code",
   "execution_count": 19,
   "id": "c9f4930a",
   "metadata": {},
   "outputs": [],
   "source": [
    "number = 1"
   ]
  },
  {
   "cell_type": "code",
   "execution_count": 20,
   "id": "45208939",
   "metadata": {},
   "outputs": [
    {
     "name": "stdout",
     "output_type": "stream",
     "text": [
      "1\n",
      "too low\n",
      "2\n",
      "too low\n",
      "3\n",
      "too low\n",
      "4\n",
      "too low\n",
      "5\n",
      "too low\n",
      "6\n",
      "too low\n",
      "7\n",
      "found it!\n"
     ]
    }
   ],
   "source": [
    "while True:\n",
    "    print(number)\n",
    "    if number < guess_me:\n",
    "        print(\"too low\")\n",
    "        number += 1\n",
    "        \n",
    "    elif number == guess_me:\n",
    "        print(\"found it!\")\n",
    "        break\n",
    "        \n",
    "    else:\n",
    "        print(\"too high\")\n",
    "        break"
   ]
  },
  {
   "cell_type": "markdown",
   "id": "2da0a6b8",
   "metadata": {},
   "source": [
    "\n",
    "\n",
    "\n",
    "\n",
    "6.3 ----------------------------------------------------"
   ]
  },
  {
   "cell_type": "code",
   "execution_count": 21,
   "id": "8d52f4c2",
   "metadata": {},
   "outputs": [],
   "source": [
    "guess_me = 5"
   ]
  },
  {
   "cell_type": "code",
   "execution_count": 22,
   "id": "4e6f4013",
   "metadata": {},
   "outputs": [
    {
     "name": "stdout",
     "output_type": "stream",
     "text": [
      "0\n",
      "too low\n",
      "1\n",
      "too low\n",
      "2\n",
      "too low\n",
      "3\n",
      "too low\n",
      "4\n",
      "too low\n",
      "5\n",
      "found it!\n"
     ]
    }
   ],
   "source": [
    "for number in range(10):\n",
    "    print(number)\n",
    "    \n",
    "    if number < guess_me:\n",
    "        print(\"too low\")\n",
    "        \n",
    "    elif number == guess_me:\n",
    "        print(\"found it!\")\n",
    "        break\n",
    "        \n",
    "    else:\n",
    "        print(\"oops\")\n",
    "        break"
   ]
  },
  {
   "cell_type": "code",
   "execution_count": null,
   "id": "296b398c",
   "metadata": {},
   "outputs": [],
   "source": []
  }
 ],
 "metadata": {
  "kernelspec": {
   "display_name": "Python 3 (ipykernel)",
   "language": "python",
   "name": "python3"
  },
  "language_info": {
   "codemirror_mode": {
    "name": "ipython",
    "version": 3
   },
   "file_extension": ".py",
   "mimetype": "text/x-python",
   "name": "python",
   "nbconvert_exporter": "python",
   "pygments_lexer": "ipython3",
   "version": "3.9.12"
  }
 },
 "nbformat": 4,
 "nbformat_minor": 5
}
