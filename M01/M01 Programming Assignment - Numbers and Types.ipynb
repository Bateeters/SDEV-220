{
 "cells": [
  {
   "cell_type": "markdown",
   "id": "2b9e59ba",
   "metadata": {},
   "source": [
    "3.1 How many seconds are in an hour? Use the interactive interpreter as a calculator and multiply the number of seconds in a minute (60) by the number of minutes in an hour (also 60).\n",
    "\n",
    "3.2 Assign the result from the previous task (seconds in an hour) to a variable called seconds_per_hour.\n",
    "\n",
    "3.3 How many seconds are in a day? Use your seconds_per_hour variable.\n",
    "\n",
    "3.4 Calculate seconds per day again, but this time save the result in a variable called seconds_per_day.\n",
    "\n",
    "3.5 Divide seconds_per_day by seconds_per_hour. Use floating-point (/) division.\n",
    "\n",
    "3.6 Divide seconds_per_day by seconds_per_hour, using integer (//) division. Did this number agree with the floating-point value from the previous question, aside from the final .0?"
   ]
  },
  {
   "cell_type": "code",
   "execution_count": 1,
   "id": "1046ca2b",
   "metadata": {},
   "outputs": [
    {
     "data": {
      "text/plain": [
       "3600"
      ]
     },
     "execution_count": 1,
     "metadata": {},
     "output_type": "execute_result"
    }
   ],
   "source": [
    "60*60"
   ]
  },
  {
   "cell_type": "markdown",
   "id": "87e1b5e2",
   "metadata": {},
   "source": [
    "3600 seconds in one hour."
   ]
  },
  {
   "cell_type": "markdown",
   "id": "4026c253",
   "metadata": {},
   "source": [
    "3.2"
   ]
  },
  {
   "cell_type": "code",
   "execution_count": 2,
   "id": "4a31fa65",
   "metadata": {},
   "outputs": [],
   "source": [
    "seconds_per_hour = 3600"
   ]
  },
  {
   "cell_type": "markdown",
   "id": "d9fe9dca",
   "metadata": {},
   "source": [
    "3.3 ------------"
   ]
  },
  {
   "cell_type": "code",
   "execution_count": 3,
   "id": "c47bd09f",
   "metadata": {},
   "outputs": [
    {
     "data": {
      "text/plain": [
       "86400"
      ]
     },
     "execution_count": 3,
     "metadata": {},
     "output_type": "execute_result"
    }
   ],
   "source": [
    "seconds_per_hour*24"
   ]
  },
  {
   "cell_type": "markdown",
   "id": "7da0e8c1",
   "metadata": {},
   "source": [
    "3.4--------------------"
   ]
  },
  {
   "cell_type": "code",
   "execution_count": 4,
   "id": "e1b03646",
   "metadata": {},
   "outputs": [],
   "source": [
    "seconds_per_day = seconds_per_hour*24"
   ]
  },
  {
   "cell_type": "code",
   "execution_count": 5,
   "id": "43b0011e",
   "metadata": {},
   "outputs": [
    {
     "name": "stdout",
     "output_type": "stream",
     "text": [
      "86400\n"
     ]
    }
   ],
   "source": [
    "print(seconds_per_day)"
   ]
  },
  {
   "cell_type": "markdown",
   "id": "d6a360b7",
   "metadata": {},
   "source": [
    "3.5------------------"
   ]
  },
  {
   "cell_type": "code",
   "execution_count": 6,
   "id": "c872f9b9",
   "metadata": {},
   "outputs": [
    {
     "data": {
      "text/plain": [
       "24.0"
      ]
     },
     "execution_count": 6,
     "metadata": {},
     "output_type": "execute_result"
    }
   ],
   "source": [
    "seconds_per_day/seconds_per_hour"
   ]
  },
  {
   "cell_type": "markdown",
   "id": "2062954b",
   "metadata": {},
   "source": [
    "3.6 ---------------"
   ]
  },
  {
   "cell_type": "code",
   "execution_count": 7,
   "id": "6701c32c",
   "metadata": {},
   "outputs": [
    {
     "data": {
      "text/plain": [
       "24"
      ]
     },
     "execution_count": 7,
     "metadata": {},
     "output_type": "execute_result"
    }
   ],
   "source": [
    "seconds_per_day//seconds_per_hour"
   ]
  },
  {
   "cell_type": "markdown",
   "id": "c22c9ec9",
   "metadata": {},
   "source": [
    "Yes, both versions of the division matched besides the \".0\" on the float."
   ]
  },
  {
   "cell_type": "code",
   "execution_count": null,
   "id": "dce3cd84",
   "metadata": {},
   "outputs": [],
   "source": []
  }
 ],
 "metadata": {
  "kernelspec": {
   "display_name": "Python 3 (ipykernel)",
   "language": "python",
   "name": "python3"
  },
  "language_info": {
   "codemirror_mode": {
    "name": "ipython",
    "version": 3
   },
   "file_extension": ".py",
   "mimetype": "text/x-python",
   "name": "python",
   "nbconvert_exporter": "python",
   "pygments_lexer": "ipython3",
   "version": "3.9.12"
  }
 },
 "nbformat": 4,
 "nbformat_minor": 5
}
