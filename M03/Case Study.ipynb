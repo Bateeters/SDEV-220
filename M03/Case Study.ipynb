{
 "cells": [
  {
   "cell_type": "code",
   "execution_count": 1,
   "id": "ecb6ea47",
   "metadata": {},
   "outputs": [],
   "source": [
    "class Vehicle:\n",
    "    def __init__(self, type):\n",
    "        self.type = type"
   ]
  },
  {
   "cell_type": "code",
   "execution_count": 12,
   "id": "4010a1ad",
   "metadata": {},
   "outputs": [],
   "source": [
    "class Automobile(Vehicle):\n",
    "    def __init__(self, type, year, make, model, doors, roof):\n",
    "        super().__init__(type)\n",
    "        \n",
    "        self.year = year\n",
    "        self.make = make\n",
    "        self.model = model\n",
    "        self.doors = doors\n",
    "        self.roof = roof"
   ]
  },
  {
   "cell_type": "code",
   "execution_count": 22,
   "id": "0f058ecc",
   "metadata": {},
   "outputs": [
    {
     "name": "stdout",
     "output_type": "stream",
     "text": [
      "type of vehicle: car\n",
      "year of vehicle: 2022\n",
      "make of vehicle: Toyota\n",
      "model of vehicle: Carolla\n",
      "2 or 4 doors? 4\n",
      "solid or sun roof? sun roof\n"
     ]
    }
   ],
   "source": [
    "typeIn = input(\"type of vehicle: \")\n",
    "yearIn = input(\"year of vehicle: \")\n",
    "makeIn = input(\"make of vehicle: \")\n",
    "modelIn = input(\"model of vehicle: \")\n",
    "doorIn = input(\"2 or 4 doors? \")\n",
    "roofIn = input(\"solid or sun roof? \")"
   ]
  },
  {
   "cell_type": "code",
   "execution_count": 23,
   "id": "23e101fd",
   "metadata": {
    "scrolled": true
   },
   "outputs": [
    {
     "name": "stdout",
     "output_type": "stream",
     "text": [
      "Vehicle Type: car\n",
      "Year: 2022\n",
      "Make: Toyota\n",
      "Model: Carolla\n",
      "Number of doors: 4\n",
      "Roof type: sun roof\n"
     ]
    }
   ],
   "source": [
    "print(\"Vehicle Type: \"+typeIn)\n",
    "print(\"Year: \"+yearIn)\n",
    "print(\"Make: \"+makeIn)\n",
    "print(\"Model: \"+modelIn)\n",
    "print(\"Number of doors: \"+doorIn)\n",
    "print(\"Roof type: \"+roofIn)"
   ]
  },
  {
   "cell_type": "code",
   "execution_count": null,
   "id": "3d87bb5e",
   "metadata": {},
   "outputs": [],
   "source": []
  }
 ],
 "metadata": {
  "kernelspec": {
   "display_name": "Python 3 (ipykernel)",
   "language": "python",
   "name": "python3"
  },
  "language_info": {
   "codemirror_mode": {
    "name": "ipython",
    "version": 3
   },
   "file_extension": ".py",
   "mimetype": "text/x-python",
   "name": "python",
   "nbconvert_exporter": "python",
   "pygments_lexer": "ipython3",
   "version": "3.9.12"
  }
 },
 "nbformat": 4,
 "nbformat_minor": 5
}
