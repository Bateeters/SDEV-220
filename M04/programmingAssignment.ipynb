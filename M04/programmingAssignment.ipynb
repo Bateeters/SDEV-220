{
 "cells": [
  {
   "cell_type": "markdown",
   "id": "46254632",
   "metadata": {},
   "source": [
    "11.1 Create a file called zoo.py. In it, define a function called hours() that prints the string 'Open 9-5 daily'. Then, use the interactive interpreter to import the zoo module and call its hours() function."
   ]
  },
  {
   "cell_type": "code",
   "execution_count": 13,
   "id": "ee8164e2",
   "metadata": {},
   "outputs": [
    {
     "name": "stdout",
     "output_type": "stream",
     "text": [
      "Open 9-5 daily\n"
     ]
    }
   ],
   "source": [
    "import zoo\n",
    "\n",
    "zoo.hours()"
   ]
  },
  {
   "cell_type": "markdown",
   "id": "85cf1855",
   "metadata": {},
   "source": [
    "11.2 In the interactive interpreter, import the zoo module as menagerie and call its hours() function."
   ]
  },
  {
   "cell_type": "code",
   "execution_count": 14,
   "id": "e2e02a3e",
   "metadata": {},
   "outputs": [
    {
     "name": "stdout",
     "output_type": "stream",
     "text": [
      "Open 9-5 daily\n"
     ]
    }
   ],
   "source": [
    "import zoo as menagerie\n",
    "\n",
    "menagerie.hours()"
   ]
  },
  {
   "cell_type": "markdown",
   "id": "bacc4ca0",
   "metadata": {},
   "source": [
    "Creating books.db from 16.4 and populating to use in 16.8 ----------------------------------------"
   ]
  },
  {
   "cell_type": "code",
   "execution_count": 89,
   "id": "bfd5eed3",
   "metadata": {},
   "outputs": [],
   "source": [
    "import csv\n",
    "books2 = [\n",
    "    {'title': 'The Weirdstone of Brisingamen', 'author': 'Alan Garner', 'year': '1960'},\n",
    "    {'title': 'Perdido Street Station', 'author': 'China Miéville', 'year': '2000'},\n",
    "    {'title': 'Thud!', 'author': 'Terry Pratchett', 'year': '2005'},\n",
    "    {'title': 'The Spellman Files', 'author': 'Lisa Lutz', 'year': '2007'},\n",
    "    {'title': 'Small Gods', 'author': 'Terry Pratchett', 'year': '1992'},\n",
    "    ]\n",
    "with open('books2.csv', 'wt') as fout:\n",
    "    cout = csv.DictWriter(fout, ['title', 'author', 'year'])\n",
    "    cout.writeheader()\n",
    "    cout.writerows(books2)\n"
   ]
  },
  {
   "cell_type": "code",
   "execution_count": 90,
   "id": "4cdac7ed",
   "metadata": {},
   "outputs": [
    {
     "name": "stdout",
     "output_type": "stream",
     "text": [
      "                           title           author  year\n",
      "0  The Weirdstone of Brisingamen      Alan Garner  1960\n",
      "1         Perdido Street Station   China Miéville  2000\n",
      "2                          Thud!  Terry Pratchett  2005\n",
      "3             The Spellman Files        Lisa Lutz  2007\n",
      "4                     Small Gods  Terry Pratchett  1992\n"
     ]
    }
   ],
   "source": [
    "import pandas as pd\n",
    "\n",
    "data = pd.read_csv(r'books2.csv')\n",
    "df = pd.DataFrame(data)\n",
    "print(df)"
   ]
  },
  {
   "cell_type": "code",
   "execution_count": 91,
   "id": "343d15ab",
   "metadata": {},
   "outputs": [
    {
     "data": {
      "text/plain": [
       "<sqlite3.Cursor at 0x7ffa8f709030>"
      ]
     },
     "execution_count": 91,
     "metadata": {},
     "output_type": "execute_result"
    }
   ],
   "source": [
    "import sqlite3\n",
    "conn = sqlite3.connect('books.db')\n",
    "curs = conn.cursor()\n",
    "curs.execute('''CREATE TABLE books\n",
    "(title TEXT PRIMARY KEY,\n",
    " author TEXT,\n",
    " year INT)''')"
   ]
  },
  {
   "cell_type": "code",
   "execution_count": 92,
   "id": "601182ba",
   "metadata": {},
   "outputs": [
    {
     "data": {
      "text/plain": [
       "5"
      ]
     },
     "execution_count": 92,
     "metadata": {},
     "output_type": "execute_result"
    }
   ],
   "source": [
    "data.to_sql('books', conn, if_exists = 'replace', index = False)"
   ]
  },
  {
   "cell_type": "code",
   "execution_count": 93,
   "id": "6e7d5597",
   "metadata": {},
   "outputs": [
    {
     "name": "stdout",
     "output_type": "stream",
     "text": [
      "('The Weirdstone of Brisingamen', 'Alan Garner', 1960)\n",
      "('Perdido Street Station', 'China Miéville', 2000)\n",
      "('Thud!', 'Terry Pratchett', 2005)\n",
      "('The Spellman Files', 'Lisa Lutz', 2007)\n",
      "('Small Gods', 'Terry Pratchett', 1992)\n"
     ]
    }
   ],
   "source": [
    "curs.execute('SELECT * FROM books')\n",
    "\n",
    "records = curs.fetchall()\n",
    "for row in records:\n",
    "    print(row)"
   ]
  },
  {
   "cell_type": "code",
   "execution_count": 94,
   "id": "d10f9b2b",
   "metadata": {},
   "outputs": [],
   "source": [
    "curs.close()"
   ]
  },
  {
   "cell_type": "markdown",
   "id": "9aaeb179",
   "metadata": {},
   "source": [
    "16.8 Use the sqlalchemy module to connect to the sqlite3 database books.db that you just made in exercise 16.4. As in 16.6, select and print the title column from the book table in alphabetical order."
   ]
  },
  {
   "cell_type": "code",
   "execution_count": 127,
   "id": "3e16785b",
   "metadata": {},
   "outputs": [
    {
     "name": "stdout",
     "output_type": "stream",
     "text": [
      "\n",
      " Perdido Street Station\n",
      "\n",
      " Small Gods\n",
      "\n",
      " The Spellman Files\n",
      "\n",
      " The Weirdstone of Brisingamen\n",
      "\n",
      " Thud!\n"
     ]
    }
   ],
   "source": [
    "import sqlalchemy as sa\n",
    "\n",
    "# Open connection to books.db\n",
    "conn = sa.create_engine('sqlite:///books.db')\n",
    "\n",
    "# Creating Metadata Object\n",
    "meta_data = sa.MetaData(bind=conn)\n",
    "sa.MetaData.reflect(meta_data)\n",
    "\n",
    "# Getting 'books' table\n",
    "BOOKS = meta_data.tables['books']\n",
    "\n",
    "# Selecting title column and ordering\n",
    "query = sa.select([BOOKS.c.title]).order_by(books.c.title)\n",
    "\n",
    "# fetching and viewing results\n",
    "result = conn.execute(query).fetchall()\n",
    "\n",
    "for record in result:\n",
    "    print(\"\\n\", record [0])"
   ]
  },
  {
   "cell_type": "code",
   "execution_count": 128,
   "id": "cf0278a3",
   "metadata": {},
   "outputs": [],
   "source": [
    "conn.dispose()"
   ]
  },
  {
   "cell_type": "code",
   "execution_count": null,
   "id": "c6cbfabf",
   "metadata": {},
   "outputs": [],
   "source": []
  }
 ],
 "metadata": {
  "kernelspec": {
   "display_name": "Python 3 (ipykernel)",
   "language": "python",
   "name": "python3"
  },
  "language_info": {
   "codemirror_mode": {
    "name": "ipython",
    "version": 3
   },
   "file_extension": ".py",
   "mimetype": "text/x-python",
   "name": "python",
   "nbconvert_exporter": "python",
   "pygments_lexer": "ipython3",
   "version": "3.9.12"
  }
 },
 "nbformat": 4,
 "nbformat_minor": 5
}
