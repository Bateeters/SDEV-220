{
 "cells": [
  {
   "cell_type": "code",
   "execution_count": 24,
   "id": "e09511d2",
   "metadata": {},
   "outputs": [],
   "source": [
    "#Brian Teeters\n",
    "#M03 Case Study\n",
    "#Program will take input of vehicle information and output it in a easy-to-read format.\n",
    "\n",
    "#typeIn = input of vehicle type, string\n",
    "#yearIn = input of vehicle year, string\n",
    "#makeIn = input of vehicle make, string\n",
    "#modelIn = input of vehicle modle, string\n",
    "#doorIn = input of vehicle door count, string\n",
    "#roofIn = input of vehicle roof type, string"
   ]
  },
  {
   "cell_type": "code",
   "execution_count": 25,
   "id": "721f1826",
   "metadata": {},
   "outputs": [],
   "source": [
    "class Vehicle:\n",
    "    def __init__(self, type):\n",
    "        self.type = type"
   ]
  },
  {
   "cell_type": "code",
   "execution_count": 26,
   "id": "38d9ce9c",
   "metadata": {},
   "outputs": [],
   "source": [
    "class Automobile(Vehicle):\n",
    "    def __init__(self, type, year, make, model, doors, roof):\n",
    "        super().__init__(type)\n",
    "        \n",
    "        self.year = year\n",
    "        self.make = make\n",
    "        self.model = model\n",
    "        self.doors = doors\n",
    "        self.roof = roof"
   ]
  },
  {
   "cell_type": "code",
   "execution_count": 31,
   "id": "dc9bc3e8",
   "metadata": {},
   "outputs": [
    {
     "name": "stdout",
     "output_type": "stream",
     "text": [
      "type of vehicle: car\n",
      "year of vehicle: 2022\n",
      "make of vehicle: Toyota\n",
      "model of vehicle: Carolla\n",
      "2 or 4 doors? 4\n",
      "solid or sun roof? Sun roof\n"
     ]
    }
   ],
   "source": [
    "typeIn = input(\"type of vehicle: \")\n",
    "yearIn = input(\"year of vehicle: \")\n",
    "makeIn = input(\"make of vehicle: \")\n",
    "modelIn = input(\"model of vehicle: \")\n",
    "doorIn = input(\"2 or 4 doors? \")\n",
    "roofIn = input(\"solid or sun roof? \")"
   ]
  },
  {
   "cell_type": "code",
   "execution_count": 32,
   "id": "83131763",
   "metadata": {
    "scrolled": true
   },
   "outputs": [
    {
     "name": "stdout",
     "output_type": "stream",
     "text": [
      "Vehicle Type: car\n",
      "Year: 2022\n",
      "Make: Toyota\n",
      "Model: Carolla\n",
      "Number of doors: 4\n",
      "Roof type: Sun roof\n"
     ]
    }
   ],
   "source": [
    "print(\"Vehicle Type: \"+typeIn)\n",
    "print(\"Year: \"+yearIn)\n",
    "print(\"Make: \"+makeIn)\n",
    "print(\"Model: \"+modelIn)\n",
    "print(\"Number of doors: \"+doorIn)\n",
    "print(\"Roof type: \"+roofIn)"
   ]
  },
  {
   "cell_type": "code",
   "execution_count": null,
   "id": "f0d90d61",
   "metadata": {},
   "outputs": [],
   "source": []
  }
 ],
 "metadata": {
  "kernelspec": {
   "display_name": "Python 3 (ipykernel)",
   "language": "python",
   "name": "python3"
  },
  "language_info": {
   "codemirror_mode": {
    "name": "ipython",
    "version": 3
   },
   "file_extension": ".py",
   "mimetype": "text/x-python",
   "name": "python",
   "nbconvert_exporter": "python",
   "pygments_lexer": "ipython3",
   "version": "3.9.12"
  }
 },
 "nbformat": 4,
 "nbformat_minor": 5
}
